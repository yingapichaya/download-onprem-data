{
 "cells": [
  {
   "cell_type": "markdown",
   "metadata": {},
   "source": [
    "#### Install Dependencies"
   ]
  },
  {
   "cell_type": "code",
   "execution_count": 1,
   "metadata": {},
   "outputs": [],
   "source": [
    "import pypyodbc\n",
    "import pandas as pd"
   ]
  },
  {
   "cell_type": "markdown",
   "metadata": {},
   "source": [
    "#### Create SSMS Connection"
   ]
  },
  {
   "cell_type": "code",
   "execution_count": 2,
   "metadata": {},
   "outputs": [],
   "source": [
    "#server and database name\n",
    "SERVER = \"EDUGLD33\"\n",
    "DATABASE = \"IMS\"\n",
    "\n",
    "ssms_connection_string = (\n",
    "    f\"DRIVER={{SQL Server}};SERVER={SERVER};DATABASE={DATABASE};Trusted_Connection=yes\"\n",
    ")\n",
    "\n",
    "ssms_connection = pypyodbc.connect(ssms_connection_string)"
   ]
  },
  {
   "cell_type": "markdown",
   "metadata": {},
   "source": [
    "#### Define Tables in table_names"
   ]
  },
  {
   "cell_type": "code",
   "execution_count": 3,
   "metadata": {},
   "outputs": [],
   "source": [
    "table_names = {\n",
    "    \"APPOINTMENTHISTORY\": {\"source_index\": [], 'target_table': None},\n",
    "    \"dtproperties\": {\"source_index\": [], 'target_table': None},\n",
    "    \"ORGUNITMANAGER\": {\"source_index\": [], 'target_table': None},\n",
    "    \"SalesforceCategories\": {\"source_index\": [], 'target_table': None},\n",
    "    \"SalesforceSiteActionsTaken\": {\"source_index\": [], 'target_table': None},\n",
    "    \"SB_EXTRACT_ACTIONLOG\": {\"source_index\": [], 'target_table': None},\n",
    "    \"SB_EXTRACT_CATEGORY\": {\"source_index\": [], 'target_table': None},\n",
    "    \"SB_EXTRACT_CRIME\": {\"source_index\": [], 'target_table': None},\n",
    "    \"SB_EXTRACT_CRIME_TYPE\": {\"source_index\": [], 'target_table': None},\n",
    "    \"SB_EXTRACT_HSSRESPONSE\": {\"source_index\": [], 'target_table': None},\n",
    "    \"SB_EXTRACT_INJURY\": {\"source_index\": [], 'target_table': None},\n",
    "    \"SB_EXTRACT_INVENTORY\": {\"source_index\": [], 'target_table': None},\n",
    "    \"SB_EXTRACT_NOTIFIABLE\": {\"source_index\": [], 'target_table': None},\n",
    "    \"SB_EXTRACT_PARTICIPANT\": {\"source_index\": [], 'target_table': None},\n",
    "    \"SB_EXTRACT_PARTICIPANT_TYPE\": {\"source_index\": [], 'target_table': None},\n",
    "    \"SB_EXTRACT_REPAIR\": {\"source_index\": [], 'target_table': None},\n",
    "    \"SB_EXTRACT_SAFETYMEASURE\": {\"source_index\": [], 'target_table': None},\n",
    "    \"SB_EXTRACT_SITEACTIONTAKEN\": {\"source_index\": [], 'target_table': None},\n",
    "    \"SB_EXTRACT_SUBCATEGORY\": {\"source_index\": [], 'target_table': None},\n",
    "    \"sysdiagrams\": {\"source_index\": [], 'target_table': None},\n",
    "    \"tbl_IMS_AlertType\": {\"source_index\": [], 'target_table': None},\n",
    "    \"tbl_IMS_Archive_SchoolCare\": {\"source_index\": [], 'target_table': None},\n",
    "    \"tbl_IMS_Attachment\": {\"source_index\": [], 'target_table': None},\n",
    "    \"tbl_IMS_AttachmentPermission\": {\"source_index\": [], 'target_table': None},\n",
    "    \"tbl_IMS_Calendar\": {\"source_index\": [], 'target_table': None},\n",
    "    \"tbl_IMS_CalendarDays\": {\"source_index\": [], 'target_table': None},\n",
    "    \"tbl_IMS_Child\": {\"source_index\": [], 'target_table': None},\n",
    "    \"tbl_IMS_ChildSite\": {\"source_index\": [], 'target_table': None},\n",
    "    \"tbl_IMS_Codes_ActionType\": {\"source_index\": [], 'target_table': None},\n",
    "    \"tbl_IMS_Codes_Activity\": {\"source_index\": [], 'target_table': None},\n",
    "    \"tbl_IMS_Codes_ActivityType\": {\"source_index\": [], 'target_table': None},\n",
    "    \"tbl_IMS_Codes_AffectedPersonType\": {\"source_index\": [], 'target_table': None},\n",
    "    \"tbl_IMS_Codes_Age\": {\"source_index\": [], 'target_table': None},\n",
    "    \"tbl_IMS_Codes_Agency\": {\"source_index\": [], 'target_table': None},\n",
    "    \"tbl_IMS_Codes_Area\": {\"source_index\": [], 'target_table': None},\n",
    "    \"tbl_IMS_Codes_AssetClass\": {\"source_index\": [], 'target_table': None},\n",
    "    \"tbl_IMS_Codes_AttachmentType\": {\"source_index\": [], 'target_table': None},\n",
    "    \"tbl_IMS_Codes_BodyPart\": {\"source_index\": [], 'target_table': None},\n",
    "    \"tbl_IMS_Codes_Category\": {\"source_index\": [], 'target_table': None},\n",
    "    \"tbl_IMS_Codes_Consequence\": {\"source_index\": [], 'target_table': None},\n",
    "    \"tbl_IMS_Codes_CrimeType\": {\"source_index\": [], 'target_table': None},\n",
    "    \"tbl_IMS_Codes_DTEIRegion\": {\"source_index\": [], 'target_table': None},\n",
    "    \"tbl_IMS_Codes_EmploymentStatus\": {\"source_index\": [], 'target_table': None},\n",
    "    \"tbl_IMS_Codes_EmploymentType\": {\"source_index\": [], 'target_table': None},\n",
    "    \"tbl_IMS_Codes_EntryMode\": {\"source_index\": [], 'target_table': None},\n",
    "    \"tbl_IMS_Codes_EntryPoint\": {\"source_index\": [], 'target_table': None},\n",
    "    \"tbl_IMS_Codes_GuardAuthorisor\": {\"source_index\": [], 'target_table': None},\n",
    "    \"tbl_IMS_Codes_GuardBilling\": {\"source_index\": [], 'target_table': None},\n",
    "    \"tbl_IMS_Codes_GuardDuty\": {\"source_index\": [], 'target_table': None},\n",
    "    \"tbl_IMS_Codes_GuardType\": {\"source_index\": [], 'target_table': None},\n",
    "    \"tbl_IMS_Codes_HazardStatus\": {\"source_index\": [], 'target_table': None},\n",
    "    \"tbl_IMS_Codes_HazardSubType\": {\"source_index\": [], 'target_table': None},\n",
    "    \"tbl_IMS_Codes_HazardType\": {\"source_index\": [], 'target_table': None},\n",
    "    \"tbl_IMS_Codes_HSSStatus\": {\"source_index\": [], 'target_table': None},\n",
    "    \"tbl_IMS_Codes_IncidentLevel\": {\"source_index\": [], 'target_table': None},\n",
    "    \"tbl_IMS_Codes_ItemStatus\": {\"source_index\": [], 'target_table': None},\n",
    "    \"tbl_IMS_Codes_ItemType\": {\"source_index\": [], 'target_table': None},\n",
    "    \"tbl_IMS_Codes_Likelihood\": {\"source_index\": [], 'target_table': None},\n",
    "    \"tbl_IMS_Codes_Mechanism\": {\"source_index\": [], 'target_table': None},\n",
    "    \"tbl_IMS_Codes_MediaStatementType\": {\"source_index\": [], 'target_table': None},\n",
    "    \"tbl_IMS_Codes_Nature\": {\"source_index\": [], 'target_table': None},\n",
    "    \"tbl_IMS_Codes_OfficerRole\": {\"source_index\": [], 'target_table': None},\n",
    "    \"tbl_IMS_Codes_OperatingHoursType\": {\"source_index\": [], 'target_table': None},\n",
    "    \"tbl_IMS_Codes_ParticipantRole\": {\"source_index\": [], 'target_table': None},\n",
    "    \"tbl_IMS_Codes_ParticipantType\": {\"source_index\": [], 'target_table': None},\n",
    "    \"tbl_IMS_Codes_Place\": {\"source_index\": [], 'target_table': None},\n",
    "    \"tbl_IMS_Codes_RAN_Criteria\": {\"source_index\": [], 'target_table': None},\n",
    "    \"tbl_IMS_Codes_RAN_CriteriaGroup\": {\"source_index\": [], 'target_table': None},\n",
    "    \"tbl_IMS_Codes_RepairPriority\": {\"source_index\": [], 'target_table': None},\n",
    "    \"tbl_IMS_Codes_RiskControl\": {\"source_index\": [], 'target_table': None},\n",
    "    \"tbl_IMS_Codes_RiskFactor\": {\"source_index\": [], 'target_table': None},\n",
    "    \"tbl_IMS_Codes_RiskRating\": {\"source_index\": [], 'target_table': None},\n",
    "    \"tbl_IMS_Codes_Role\": {\"source_index\": [], 'target_table': None},\n",
    "    \"tbl_IMS_Codes_SafetyMeasures\": {\"source_index\": [], 'target_table': None},\n",
    "    \"tbl_IMS_Codes_SensitivityRating\": {\"source_index\": [], 'target_table': None},\n",
    "    \"tbl_IMS_Codes_SexOffenceType\": {\"source_index\": [], 'target_table': None},\n",
    "    \"tbl_IMS_Codes_SiteActionTaken\": {\"source_index\": [], 'target_table': None},\n",
    "    \"tbl_IMS_Codes_StolenFrom\": {\"source_index\": [], 'target_table': None},\n",
    "    \"tbl_IMS_Codes_SubCategory\": {\"source_index\": [], 'target_table': None},\n",
    "    \"tbl_IMS_Codes_SubSiteActionTaken\": {\"source_index\": [], 'target_table': None},\n",
    "    \"tbl_IMS_Codes_Trade\": {\"source_index\": [], 'target_table': None},\n",
    "    \"tbl_IMS_Codes_Treatment\": {\"source_index\": [], 'target_table': None},\n",
    "    \"tbl_IMS_Codes_WorkPressureType\": {\"source_index\": [], 'target_table': None},\n",
    "    \"tbl_IMS_ContactAction\": {\"source_index\": [], 'target_table': None},\n",
    "    \"tbl_IMS_Crime\": {\"source_index\": [], 'target_table': None},\n",
    "    \"tbl_IMS_CrimeCrimeType\": {\"source_index\": [], 'target_table': None},\n",
    "    \"tbl_IMS_CrimeSexOffenceType\": {\"source_index\": [], 'target_table': None},\n",
    "    \"tbl_IMS_CriticalIncident\": {\"source_index\": [], 'target_table': None},\n",
    "    \"tbl_IMS_CriticalIncidentCategory\": {\"source_index\": [], 'target_table': None},\n",
    "    \"tbl_IMS_CriticalIncidentParticipant\": {\"source_index\": [], 'target_table': None},\n",
    "    \"tbl_IMS_CriticalIncidentRiskFactor\": {\"source_index\": [], 'target_table': None},\n",
    "    \"tbl_IMS_CriticalIncidentSiteActionTaken\": {\"source_index\": [], 'target_table': None},\n",
    "    \"tbl_IMS_CriticalIncidentSubCategory\": {\"source_index\": [], 'target_table': None},\n",
    "    \"tbl_IMS_CriticalIncidentSubSiteActionTaken\": {\"source_index\": [], 'target_table': None},\n",
    "    \"tbl_IMS_CriticalKeyContactAreaMapping\": {\"source_index\": [], 'target_table': None},\n",
    "    \"tbl_IMS_Director\": {\"source_index\": [], 'target_table': None},\n",
    "    \"tbl_IMS_DTEIRegionMap\": {\"source_index\": [], 'target_table': None},\n",
    "    \"tbl_IMS_ED155Incidents\": {\"source_index\": [], 'target_table': None},\n",
    "    \"tbl_IMS_EmailHistory\": {\"source_index\": [], 'target_table': None},\n",
    "    \"tbl_IMS_EventType\": {\"source_index\": [], 'target_table': None},\n",
    "    \"tbl_IMS_Extract\": {\"source_index\": [], 'target_table': None},\n",
    "    \"tbl_IMS_ExtractObject\": {\"source_index\": [], 'target_table': None},\n",
    "    \"tbl_IMS_FollowUp\": {\"source_index\": [], 'target_table': None},\n",
    "    \"tbl_IMS_Gender\": {\"source_index\": [], 'target_table': None},\n",
    "    \"tbl_IMS_GLCategory\": {\"source_index\": [], 'target_table': None},\n",
    "    \"tbl_IMS_GLExpenditureCategorisation\": {\"source_index\": [], 'target_table': None},\n",
    "    \"tbl_IMS_GLExpenditureSummary\": {\"source_index\": [], 'target_table': None},\n",
    "    \"tbl_IMS_GLFundGroup\": {\"source_index\": [], 'target_table': None},\n",
    "    \"tbl_IMS_GLFundsApproved\": {\"source_index\": [], 'target_table': None},\n",
    "    \"tbl_IMS_Global\": {\"source_index\": [], 'target_table': None},\n",
    "    \"tbl_IMS_GLObject\": {\"source_index\": [], 'target_table': None},\n",
    "    \"tbl_IMS_GLTrans\": {\"source_index\": [], 'target_table': None},\n",
    "    \"tbl_IMS_Hazard\": {\"source_index\": [], 'target_table': None},\n",
    "    \"tbl_IMS_HazardHazardSubType\": {\"source_index\": [], 'target_table': None},\n",
    "    \"tbl_IMS_HazardHazardType\": {\"source_index\": [], 'target_table': None},\n",
    "    \"tbl_IMS_HazardRiskControl\": {\"source_index\": [], 'target_table': None},\n",
    "    \"tbl_IMS_HazardSiteManager\": {\"source_index\": [], 'target_table': None},\n",
    "    \"tbl_IMS_HIRSExtractLog\": {\"source_index\": [], 'target_table': None},\n",
    "    \"tbl_IMS_HistoryHIRSExtract\": {\"source_index\": [], 'target_table': None},\n",
    "    \"tbl_IMS_HSSResponse\": {\"source_index\": [], 'target_table': None},\n",
    "    \"tbl_IMS_Import_SAMISBuilding\": {\"source_index\": [], 'target_table': None},\n",
    "    \"tbl_IMS_Import_SAMISLevel\": {\"source_index\": [], 'target_table': None},\n",
    "    \"tbl_IMS_Import_SAMISRoom\": {\"source_index\": [], 'target_table': None},\n",
    "    \"tbl_IMS_Import_SAMISSite\": {\"source_index\": [], 'target_table': None},\n",
    "    \"tbl_IMS_ImportFTE\": {\"source_index\": [], 'target_table': None},\n",
    "    \"tbl_IMS_ImportFTEHistory\": {\"source_index\": [], 'target_table': None},\n",
    "    \"tbl_IMS_Incident\": {\"source_index\": [], 'target_table': None},\n",
    "    \"tbl_IMS_IncidentAttachment\": {\"source_index\": [], 'target_table': None},\n",
    "    \"tbl_IMS_IncidentPerson\": {\"source_index\": [], 'target_table': None},\n",
    "    \"tbl_IMS_IncidentPersonWorkPressureType\": {\"source_index\": [], 'target_table': None},\n",
    "    \"tbl_IMS_IncidentRegion\": {\"source_index\": [], 'target_table': None},\n",
    "    \"tbl_IMS_Inventory\": {\"source_index\": [], 'target_table': None},\n",
    "    \"tbl_IMS_InventoryInvoices\": {\"source_index\": [], 'target_table': None},\n",
    "    \"tbl_IMS_ItemCategory\": {\"source_index\": [], 'target_table': None},\n",
    "    \"tbl_IMS_MediaAdvice\": {\"source_index\": [], 'target_table': None},\n",
    "    \"tbl_IMS_MediaAdviceMediaStatementType\": {\"source_index\": [], 'target_table': None},\n",
    "    \"tbl_IMS_MediaStatement\": {\"source_index\": [], 'target_table': None},\n",
    "    \"tbl_IMS_MessageTemplate\": {\"source_index\": [], 'target_table': None},\n",
    "    \"tbl_IMS_Mig_SalesForceConfig\": {\"source_index\": [], 'target_table': None},\n",
    "    \"tbl_IMS_Mig_SF_users\": {\"source_index\": [], 'target_table': None},\n",
    "    \"tbl_IMS_PaymentFile\": {\"source_index\": [], 'target_table': None},\n",
    "    \"tbl_IMS_PaymentFileItems\": {\"source_index\": [], 'target_table': None},\n",
    "    \"tbl_IMS_Person\": {\"source_index\": [], 'target_table': None},\n",
    "    \"tbl_IMS_PersonalClaim\": {\"source_index\": [], 'target_table': None},\n",
    "    \"tbl_IMS_RAN_CriteriaGroup\": {\"source_index\": [], 'target_table': None},\n",
    "    \"tbl_IMS_RAN_Main\": {\"source_index\": [], 'target_table': None},\n",
    "    \"tbl_IMS_RAN_NL01\": {\"source_index\": [], 'target_table': None},\n",
    "    \"tbl_IMS_RAN_SI01\": {\"source_index\": [], 'target_table': None},\n",
    "    \"tbl_IMS_RecordType\": {\"source_index\": [], 'target_table': None},\n",
    "    \"tbl_IMS_Repair\": {\"source_index\": [], 'target_table': None},\n",
    "    \"tbl_IMS_Report\": {\"source_index\": [], 'target_table': None},\n",
    "    \"tbl_IMS_ReportCategory\": {\"source_index\": [], 'target_table': None},\n",
    "    \"tbl_IMS_ReportCategory_Report\": {\"source_index\": [], 'target_table': None},\n",
    "    \"tbl_IMS_Response\": {\"source_index\": [], 'target_table': None},\n",
    "    \"tbl_IMS_RiskMatrix\": {\"source_index\": [], 'target_table': None},\n",
    "    \"tbl_IMS_Role\": {\"source_index\": [], 'target_table': None},\n",
    "    \"tbl_IMS_Role_ReportCategory\": {\"source_index\": [], 'target_table': None},\n",
    "    \"tbl_IMS_Role_ReportCategory_Report\": {\"source_index\": [], 'target_table': None},\n",
    "    \"tbl_IMS_Rule\": {\"source_index\": [], 'target_table': None},\n",
    "    \"tbl_IMS_RuleSet\": {\"source_index\": [], 'target_table': None},\n",
    "    \"tbl_IMS_RuleType\": {\"source_index\": [], 'target_table': None},\n",
    "    \"tbl_IMS_SAMISBuilding\": {\"source_index\": [], 'target_table': None},\n",
    "    \"tbl_IMS_SAMISLevel\": {\"source_index\": [], 'target_table': None},\n",
    "    \"tbl_IMS_SAMISRoom\": {\"source_index\": [], 'target_table': None},\n",
    "    \"tbl_IMS_SAMISSite\": {\"source_index\": [], 'target_table': None},\n",
    "    \"tbl_IMS_SecurityRequest\": {\"source_index\": [], 'target_table': None},\n",
    "    \"tbl_IMS_SecurityRequestItem\": {\"source_index\": [], 'target_table': None},\n",
    "    \"tbl_IMS_SiteException\": {\"source_index\": [], 'target_table': None},\n",
    "    \"tbl_IMS_SiteFilter\": {\"source_index\": [], 'target_table': None},\n",
    "    \"tbl_IMS_SiteManager\": {\"source_index\": [], 'target_table': None},\n",
    "    \"tbl_IMS_SiteManagerSafetyMeasures\": {\"source_index\": [], 'target_table': None},\n",
    "    \"tbl_IMS_StateEmergency\": {\"source_index\": [], 'target_table': None},\n",
    "    \"tbl_IMS_StateEmergencyIncident\": {\"source_index\": [], 'target_table': None},\n",
    "    \"tbl_IMS_TableMapping\": {\"source_index\": [], 'target_table': None},\n",
    "    \"tbl_IMS_TraceLog\": {\"source_index\": [], 'target_table': None},\n",
    "    \"tbl_IMS_TraceLogUsers\": {\"source_index\": [], 'target_table': None},\n",
    "    \"tbl_IMS_Witness\": {\"source_index\": [], 'target_table': None},\n",
    "    \"tbl_IMS_Workflow\": {\"source_index\": [], 'target_table': None},\n",
    "    \"temp_Trace\": {\"source_index\": [], 'target_table': None},\n",
    "    \"temp_Trace1\": {\"source_index\": [], 'target_table': None},\n",
    "    \"vw_IMS_LSS_OrgUnit_New\": {\"source_index\": [], 'target_table': None},\n",
    "    \"vw_IMS_LSS_OrgUnit_Original\": {\"source_index\": [], 'target_table': None},\n",
    "    \"XBSLOG_IMS_ATTACHMENT\": {\"source_index\": [], 'target_table': None},\n",
    "    \"tbl_IMS_Email\": {\"source_index\": [], 'target_table': None},\n",
    "    \"tbl_IMS_ActionTaken\": {\"source_index\": [], 'target_table': None},\n",
    "    \"tbl_IMS_CriticalIncidentRelease\": {\"source_index\": [], 'target_table': None},\n",
    "    \"tbl_IMS_Alert\": {\"source_index\": [], 'target_table': None},\n",
    "    \"tbl_IMS_EmailRecipient\": {\"source_index\": [], 'target_table': None},\n",
    "    \"tbl_IMS_StatusHistory\": {\"source_index\": [], 'target_table': None},\n",
    "    \"tbl_IMS_AuditHistory\": {\"source_index\": [], 'target_table': None},\n",
    "    \"tbl_IMS_DAIS\": {\"source_index\": [], 'target_table': None},\n",
    "}"
   ]
  },
  {
   "cell_type": "markdown",
   "metadata": {},
   "source": [
    "#### Get Index for Tables in table_names"
   ]
  },
  {
   "cell_type": "code",
   "execution_count": 4,
   "metadata": {},
   "outputs": [
    {
     "name": "stderr",
     "output_type": "stream",
     "text": [
      "C:\\Users\\SincharernwattanaA\\AppData\\Local\\Temp\\ipykernel_18036\\1495243311.py:15: UserWarning: pandas only supports SQLAlchemy connectable (engine/connection) or database string URI or sqlite3 DBAPI2 connection. Other DBAPI2 objects are not tested. Please consider using SQLAlchemy.\n",
      "  df_index = pd.read_sql_query(index_query, ssms_connection)\n"
     ]
    }
   ],
   "source": [
    "index_query = \"\"\"\n",
    "SELECT  t.name AS table_name,\n",
    "        c.name AS index_column\n",
    "FROM    ims.sys.tables t\n",
    "LEFT    JOIN ims.sys.indexes i ON t.object_id = i.object_id\n",
    "LEFT    JOIN ims.sys.index_columns ic ON t.object_id = ic.object_id\n",
    "        AND i.index_id = ic.index_id\n",
    "LEFT    JOIN ims.sys.columns c ON t.object_id = c.object_id\n",
    "        AND ic.column_id = c.column_id\n",
    "WHERE   i.is_unique = 1\n",
    "        AND i.name IS NOT NULL\n",
    "        AND i.type = 1\n",
    "\"\"\"\n",
    "\n",
    "df_index = pd.read_sql_query(index_query, ssms_connection)\n",
    "for _, row in df_index.iterrows():\n",
    "    table_names[row.table_name][\"source_index\"].append(row.index_column.lower())\n",
    "\n",
    "table_names = dict(\n",
    "    sorted(table_names.items(), key=lambda item: len(item[1]['source_index']) == 0, reverse=True)\n",
    ")"
   ]
  },
  {
   "cell_type": "markdown",
   "metadata": {},
   "source": [
    "#### Append index to tables in table_names"
   ]
  },
  {
   "cell_type": "code",
   "execution_count": 5,
   "metadata": {},
   "outputs": [
    {
     "data": {
      "text/plain": [
       "33"
      ]
     },
     "execution_count": 5,
     "metadata": {},
     "output_type": "execute_result"
    }
   ],
   "source": [
    "table_names = dict(\n",
    "    sorted(table_names.items(), key=lambda item: len(item[1]['source_index']) == 0, reverse=True)\n",
    ")\n",
    "\n",
    "empty_source_index_count = sum(1 for table in table_names.values() if not table['source_index'])\n",
    "empty_source_index_count"
   ]
  },
  {
   "cell_type": "markdown",
   "metadata": {},
   "source": [
    "#### Save On-Prem data to parquet files"
   ]
  },
  {
   "cell_type": "code",
   "execution_count": 6,
   "metadata": {},
   "outputs": [
    {
     "name": "stderr",
     "output_type": "stream",
     "text": [
      "C:\\Users\\SincharernwattanaA\\AppData\\Local\\Temp\\ipykernel_18036\\2629856197.py:3: UserWarning: pandas only supports SQLAlchemy connectable (engine/connection) or database string URI or sqlite3 DBAPI2 connection. Other DBAPI2 objects are not tested. Please consider using SQLAlchemy.\n",
      "  count_result = pd.read_sql_query(f\"select count (*) from IMS.dbo.{table_name}\", ssms_connection)\n",
      "C:\\Users\\SincharernwattanaA\\AppData\\Local\\Temp\\ipykernel_18036\\2629856197.py:11: UserWarning: pandas only supports SQLAlchemy connectable (engine/connection) or database string URI or sqlite3 DBAPI2 connection. Other DBAPI2 objects are not tested. Please consider using SQLAlchemy.\n",
      "  df_source = pd.read_sql_query(\n"
     ]
    },
    {
     "ename": "OSError",
     "evalue": "Cannot save file into a non-existent directory: 'files'",
     "output_type": "error",
     "traceback": [
      "\u001b[1;31m---------------------------------------------------------------------------\u001b[0m",
      "\u001b[1;31mOSError\u001b[0m                                   Traceback (most recent call last)",
      "Cell \u001b[1;32mIn[6], line 14\u001b[0m\n\u001b[0;32m     10\u001b[0m \u001b[38;5;28;01melse\u001b[39;00m:\n\u001b[0;32m     11\u001b[0m     df_source \u001b[38;5;241m=\u001b[39m pd\u001b[38;5;241m.\u001b[39mread_sql_query(\n\u001b[0;32m     12\u001b[0m         \u001b[38;5;124mf\u001b[39m\u001b[38;5;124m\"\u001b[39m\u001b[38;5;124mselect * from IMS.dbo.\u001b[39m\u001b[38;5;132;01m{\u001b[39;00mtable_name\u001b[38;5;132;01m}\u001b[39;00m\u001b[38;5;124m\"\u001b[39m, ssms_connection\n\u001b[0;32m     13\u001b[0m )\n\u001b[1;32m---> 14\u001b[0m \u001b[43mdf_source\u001b[49m\u001b[38;5;241;43m.\u001b[39;49m\u001b[43mto_parquet\u001b[49m\u001b[43m(\u001b[49m\u001b[38;5;124;43mf\u001b[39;49m\u001b[38;5;124;43m'\u001b[39;49m\u001b[38;5;124;43m./files/\u001b[39;49m\u001b[38;5;132;43;01m{\u001b[39;49;00m\u001b[43mtable_name\u001b[49m\u001b[38;5;132;43;01m}\u001b[39;49;00m\u001b[38;5;124;43m.parquet\u001b[39;49m\u001b[38;5;124;43m'\u001b[39;49m\u001b[43m)\u001b[49m\n",
      "File \u001b[1;32mc:\\Users\\SincharernwattanaA\\projects\\download-onprem-data\\venv\\lib\\site-packages\\pandas\\util\\_decorators.py:333\u001b[0m, in \u001b[0;36mdeprecate_nonkeyword_arguments.<locals>.decorate.<locals>.wrapper\u001b[1;34m(*args, **kwargs)\u001b[0m\n\u001b[0;32m    327\u001b[0m \u001b[38;5;28;01mif\u001b[39;00m \u001b[38;5;28mlen\u001b[39m(args) \u001b[38;5;241m>\u001b[39m num_allow_args:\n\u001b[0;32m    328\u001b[0m     warnings\u001b[38;5;241m.\u001b[39mwarn(\n\u001b[0;32m    329\u001b[0m         msg\u001b[38;5;241m.\u001b[39mformat(arguments\u001b[38;5;241m=\u001b[39m_format_argument_list(allow_args)),\n\u001b[0;32m    330\u001b[0m         \u001b[38;5;167;01mFutureWarning\u001b[39;00m,\n\u001b[0;32m    331\u001b[0m         stacklevel\u001b[38;5;241m=\u001b[39mfind_stack_level(),\n\u001b[0;32m    332\u001b[0m     )\n\u001b[1;32m--> 333\u001b[0m \u001b[38;5;28;01mreturn\u001b[39;00m func(\u001b[38;5;241m*\u001b[39margs, \u001b[38;5;241m*\u001b[39m\u001b[38;5;241m*\u001b[39mkwargs)\n",
      "File \u001b[1;32mc:\\Users\\SincharernwattanaA\\projects\\download-onprem-data\\venv\\lib\\site-packages\\pandas\\core\\frame.py:3113\u001b[0m, in \u001b[0;36mDataFrame.to_parquet\u001b[1;34m(self, path, engine, compression, index, partition_cols, storage_options, **kwargs)\u001b[0m\n\u001b[0;32m   3032\u001b[0m \u001b[38;5;250m\u001b[39m\u001b[38;5;124;03m\"\"\"\u001b[39;00m\n\u001b[0;32m   3033\u001b[0m \u001b[38;5;124;03mWrite a DataFrame to the binary parquet format.\u001b[39;00m\n\u001b[0;32m   3034\u001b[0m \n\u001b[1;32m   (...)\u001b[0m\n\u001b[0;32m   3109\u001b[0m \u001b[38;5;124;03m>>> content = f.read()\u001b[39;00m\n\u001b[0;32m   3110\u001b[0m \u001b[38;5;124;03m\"\"\"\u001b[39;00m\n\u001b[0;32m   3111\u001b[0m \u001b[38;5;28;01mfrom\u001b[39;00m\u001b[38;5;250m \u001b[39m\u001b[38;5;21;01mpandas\u001b[39;00m\u001b[38;5;21;01m.\u001b[39;00m\u001b[38;5;21;01mio\u001b[39;00m\u001b[38;5;21;01m.\u001b[39;00m\u001b[38;5;21;01mparquet\u001b[39;00m\u001b[38;5;250m \u001b[39m\u001b[38;5;28;01mimport\u001b[39;00m to_parquet\n\u001b[1;32m-> 3113\u001b[0m \u001b[38;5;28;01mreturn\u001b[39;00m to_parquet(\n\u001b[0;32m   3114\u001b[0m     \u001b[38;5;28mself\u001b[39m,\n\u001b[0;32m   3115\u001b[0m     path,\n\u001b[0;32m   3116\u001b[0m     engine,\n\u001b[0;32m   3117\u001b[0m     compression\u001b[38;5;241m=\u001b[39mcompression,\n\u001b[0;32m   3118\u001b[0m     index\u001b[38;5;241m=\u001b[39mindex,\n\u001b[0;32m   3119\u001b[0m     partition_cols\u001b[38;5;241m=\u001b[39mpartition_cols,\n\u001b[0;32m   3120\u001b[0m     storage_options\u001b[38;5;241m=\u001b[39mstorage_options,\n\u001b[0;32m   3121\u001b[0m     \u001b[38;5;241m*\u001b[39m\u001b[38;5;241m*\u001b[39mkwargs,\n\u001b[0;32m   3122\u001b[0m )\n",
      "File \u001b[1;32mc:\\Users\\SincharernwattanaA\\projects\\download-onprem-data\\venv\\lib\\site-packages\\pandas\\io\\parquet.py:480\u001b[0m, in \u001b[0;36mto_parquet\u001b[1;34m(df, path, engine, compression, index, storage_options, partition_cols, filesystem, **kwargs)\u001b[0m\n\u001b[0;32m    476\u001b[0m impl \u001b[38;5;241m=\u001b[39m get_engine(engine)\n\u001b[0;32m    478\u001b[0m path_or_buf: FilePath \u001b[38;5;241m|\u001b[39m WriteBuffer[\u001b[38;5;28mbytes\u001b[39m] \u001b[38;5;241m=\u001b[39m io\u001b[38;5;241m.\u001b[39mBytesIO() \u001b[38;5;28;01mif\u001b[39;00m path \u001b[38;5;129;01mis\u001b[39;00m \u001b[38;5;28;01mNone\u001b[39;00m \u001b[38;5;28;01melse\u001b[39;00m path\n\u001b[1;32m--> 480\u001b[0m impl\u001b[38;5;241m.\u001b[39mwrite(\n\u001b[0;32m    481\u001b[0m     df,\n\u001b[0;32m    482\u001b[0m     path_or_buf,\n\u001b[0;32m    483\u001b[0m     compression\u001b[38;5;241m=\u001b[39mcompression,\n\u001b[0;32m    484\u001b[0m     index\u001b[38;5;241m=\u001b[39mindex,\n\u001b[0;32m    485\u001b[0m     partition_cols\u001b[38;5;241m=\u001b[39mpartition_cols,\n\u001b[0;32m    486\u001b[0m     storage_options\u001b[38;5;241m=\u001b[39mstorage_options,\n\u001b[0;32m    487\u001b[0m     filesystem\u001b[38;5;241m=\u001b[39mfilesystem,\n\u001b[0;32m    488\u001b[0m     \u001b[38;5;241m*\u001b[39m\u001b[38;5;241m*\u001b[39mkwargs,\n\u001b[0;32m    489\u001b[0m )\n\u001b[0;32m    491\u001b[0m \u001b[38;5;28;01mif\u001b[39;00m path \u001b[38;5;129;01mis\u001b[39;00m \u001b[38;5;28;01mNone\u001b[39;00m:\n\u001b[0;32m    492\u001b[0m     \u001b[38;5;28;01massert\u001b[39;00m \u001b[38;5;28misinstance\u001b[39m(path_or_buf, io\u001b[38;5;241m.\u001b[39mBytesIO)\n",
      "File \u001b[1;32mc:\\Users\\SincharernwattanaA\\projects\\download-onprem-data\\venv\\lib\\site-packages\\pandas\\io\\parquet.py:198\u001b[0m, in \u001b[0;36mPyArrowImpl.write\u001b[1;34m(self, df, path, compression, index, storage_options, partition_cols, filesystem, **kwargs)\u001b[0m\n\u001b[0;32m    195\u001b[0m     merged_metadata \u001b[38;5;241m=\u001b[39m {\u001b[38;5;241m*\u001b[39m\u001b[38;5;241m*\u001b[39mexisting_metadata, \u001b[38;5;241m*\u001b[39m\u001b[38;5;241m*\u001b[39mdf_metadata}\n\u001b[0;32m    196\u001b[0m     table \u001b[38;5;241m=\u001b[39m table\u001b[38;5;241m.\u001b[39mreplace_schema_metadata(merged_metadata)\n\u001b[1;32m--> 198\u001b[0m path_or_handle, handles, filesystem \u001b[38;5;241m=\u001b[39m \u001b[43m_get_path_or_handle\u001b[49m\u001b[43m(\u001b[49m\n\u001b[0;32m    199\u001b[0m \u001b[43m    \u001b[49m\u001b[43mpath\u001b[49m\u001b[43m,\u001b[49m\n\u001b[0;32m    200\u001b[0m \u001b[43m    \u001b[49m\u001b[43mfilesystem\u001b[49m\u001b[43m,\u001b[49m\n\u001b[0;32m    201\u001b[0m \u001b[43m    \u001b[49m\u001b[43mstorage_options\u001b[49m\u001b[38;5;241;43m=\u001b[39;49m\u001b[43mstorage_options\u001b[49m\u001b[43m,\u001b[49m\n\u001b[0;32m    202\u001b[0m \u001b[43m    \u001b[49m\u001b[43mmode\u001b[49m\u001b[38;5;241;43m=\u001b[39;49m\u001b[38;5;124;43m\"\u001b[39;49m\u001b[38;5;124;43mwb\u001b[39;49m\u001b[38;5;124;43m\"\u001b[39;49m\u001b[43m,\u001b[49m\n\u001b[0;32m    203\u001b[0m \u001b[43m    \u001b[49m\u001b[43mis_dir\u001b[49m\u001b[38;5;241;43m=\u001b[39;49m\u001b[43mpartition_cols\u001b[49m\u001b[43m \u001b[49m\u001b[38;5;129;43;01mis\u001b[39;49;00m\u001b[43m \u001b[49m\u001b[38;5;129;43;01mnot\u001b[39;49;00m\u001b[43m \u001b[49m\u001b[38;5;28;43;01mNone\u001b[39;49;00m\u001b[43m,\u001b[49m\n\u001b[0;32m    204\u001b[0m \u001b[43m\u001b[49m\u001b[43m)\u001b[49m\n\u001b[0;32m    205\u001b[0m \u001b[38;5;28;01mif\u001b[39;00m (\n\u001b[0;32m    206\u001b[0m     \u001b[38;5;28misinstance\u001b[39m(path_or_handle, io\u001b[38;5;241m.\u001b[39mBufferedWriter)\n\u001b[0;32m    207\u001b[0m     \u001b[38;5;129;01mand\u001b[39;00m \u001b[38;5;28mhasattr\u001b[39m(path_or_handle, \u001b[38;5;124m\"\u001b[39m\u001b[38;5;124mname\u001b[39m\u001b[38;5;124m\"\u001b[39m)\n\u001b[0;32m    208\u001b[0m     \u001b[38;5;129;01mand\u001b[39;00m \u001b[38;5;28misinstance\u001b[39m(path_or_handle\u001b[38;5;241m.\u001b[39mname, (\u001b[38;5;28mstr\u001b[39m, \u001b[38;5;28mbytes\u001b[39m))\n\u001b[0;32m    209\u001b[0m ):\n\u001b[0;32m    210\u001b[0m     \u001b[38;5;28;01mif\u001b[39;00m \u001b[38;5;28misinstance\u001b[39m(path_or_handle\u001b[38;5;241m.\u001b[39mname, \u001b[38;5;28mbytes\u001b[39m):\n",
      "File \u001b[1;32mc:\\Users\\SincharernwattanaA\\projects\\download-onprem-data\\venv\\lib\\site-packages\\pandas\\io\\parquet.py:140\u001b[0m, in \u001b[0;36m_get_path_or_handle\u001b[1;34m(path, fs, storage_options, mode, is_dir)\u001b[0m\n\u001b[0;32m    130\u001b[0m handles \u001b[38;5;241m=\u001b[39m \u001b[38;5;28;01mNone\u001b[39;00m\n\u001b[0;32m    131\u001b[0m \u001b[38;5;28;01mif\u001b[39;00m (\n\u001b[0;32m    132\u001b[0m     \u001b[38;5;129;01mnot\u001b[39;00m fs\n\u001b[0;32m    133\u001b[0m     \u001b[38;5;129;01mand\u001b[39;00m \u001b[38;5;129;01mnot\u001b[39;00m is_dir\n\u001b[1;32m   (...)\u001b[0m\n\u001b[0;32m    138\u001b[0m     \u001b[38;5;66;03m# fsspec resources can also point to directories\u001b[39;00m\n\u001b[0;32m    139\u001b[0m     \u001b[38;5;66;03m# this branch is used for example when reading from non-fsspec URLs\u001b[39;00m\n\u001b[1;32m--> 140\u001b[0m     handles \u001b[38;5;241m=\u001b[39m \u001b[43mget_handle\u001b[49m\u001b[43m(\u001b[49m\n\u001b[0;32m    141\u001b[0m \u001b[43m        \u001b[49m\u001b[43mpath_or_handle\u001b[49m\u001b[43m,\u001b[49m\u001b[43m \u001b[49m\u001b[43mmode\u001b[49m\u001b[43m,\u001b[49m\u001b[43m \u001b[49m\u001b[43mis_text\u001b[49m\u001b[38;5;241;43m=\u001b[39;49m\u001b[38;5;28;43;01mFalse\u001b[39;49;00m\u001b[43m,\u001b[49m\u001b[43m \u001b[49m\u001b[43mstorage_options\u001b[49m\u001b[38;5;241;43m=\u001b[39;49m\u001b[43mstorage_options\u001b[49m\n\u001b[0;32m    142\u001b[0m \u001b[43m    \u001b[49m\u001b[43m)\u001b[49m\n\u001b[0;32m    143\u001b[0m     fs \u001b[38;5;241m=\u001b[39m \u001b[38;5;28;01mNone\u001b[39;00m\n\u001b[0;32m    144\u001b[0m     path_or_handle \u001b[38;5;241m=\u001b[39m handles\u001b[38;5;241m.\u001b[39mhandle\n",
      "File \u001b[1;32mc:\\Users\\SincharernwattanaA\\projects\\download-onprem-data\\venv\\lib\\site-packages\\pandas\\io\\common.py:749\u001b[0m, in \u001b[0;36mget_handle\u001b[1;34m(path_or_buf, mode, encoding, compression, memory_map, is_text, errors, storage_options)\u001b[0m\n\u001b[0;32m    747\u001b[0m \u001b[38;5;66;03m# Only for write methods\u001b[39;00m\n\u001b[0;32m    748\u001b[0m \u001b[38;5;28;01mif\u001b[39;00m \u001b[38;5;124m\"\u001b[39m\u001b[38;5;124mr\u001b[39m\u001b[38;5;124m\"\u001b[39m \u001b[38;5;129;01mnot\u001b[39;00m \u001b[38;5;129;01min\u001b[39;00m mode \u001b[38;5;129;01mand\u001b[39;00m is_path:\n\u001b[1;32m--> 749\u001b[0m     \u001b[43mcheck_parent_directory\u001b[49m\u001b[43m(\u001b[49m\u001b[38;5;28;43mstr\u001b[39;49m\u001b[43m(\u001b[49m\u001b[43mhandle\u001b[49m\u001b[43m)\u001b[49m\u001b[43m)\u001b[49m\n\u001b[0;32m    751\u001b[0m \u001b[38;5;28;01mif\u001b[39;00m compression:\n\u001b[0;32m    752\u001b[0m     \u001b[38;5;28;01mif\u001b[39;00m compression \u001b[38;5;241m!=\u001b[39m \u001b[38;5;124m\"\u001b[39m\u001b[38;5;124mzstd\u001b[39m\u001b[38;5;124m\"\u001b[39m:\n\u001b[0;32m    753\u001b[0m         \u001b[38;5;66;03m# compression libraries do not like an explicit text-mode\u001b[39;00m\n",
      "File \u001b[1;32mc:\\Users\\SincharernwattanaA\\projects\\download-onprem-data\\venv\\lib\\site-packages\\pandas\\io\\common.py:616\u001b[0m, in \u001b[0;36mcheck_parent_directory\u001b[1;34m(path)\u001b[0m\n\u001b[0;32m    614\u001b[0m parent \u001b[38;5;241m=\u001b[39m Path(path)\u001b[38;5;241m.\u001b[39mparent\n\u001b[0;32m    615\u001b[0m \u001b[38;5;28;01mif\u001b[39;00m \u001b[38;5;129;01mnot\u001b[39;00m parent\u001b[38;5;241m.\u001b[39mis_dir():\n\u001b[1;32m--> 616\u001b[0m     \u001b[38;5;28;01mraise\u001b[39;00m \u001b[38;5;167;01mOSError\u001b[39;00m(\u001b[38;5;124mrf\u001b[39m\u001b[38;5;124m\"\u001b[39m\u001b[38;5;124mCannot save file into a non-existent directory: \u001b[39m\u001b[38;5;124m'\u001b[39m\u001b[38;5;132;01m{\u001b[39;00mparent\u001b[38;5;132;01m}\u001b[39;00m\u001b[38;5;124m'\u001b[39m\u001b[38;5;124m\"\u001b[39m)\n",
      "\u001b[1;31mOSError\u001b[0m: Cannot save file into a non-existent directory: 'files'"
     ]
    }
   ],
   "source": [
    "for table_name, table_info in table_names.items():\n",
    "\n",
    "    count_result = pd.read_sql_query(f\"select count (*) from IMS.dbo.{table_name}\", ssms_connection)\n",
    "    record_count = count_result.iloc[0, 0]\n",
    "    index = table_info[\"source_index\"]\n",
    "    if record_count > 800000:\n",
    "        df_source = pd.read_sql_query(\n",
    "            f\"select top(200) * from IMS.dbo.{table_name} order by {','.join(index)} \", ssms_connection\n",
    "    )\n",
    "    else:\n",
    "        df_source = pd.read_sql_query(\n",
    "            f\"select * from IMS.dbo.{table_name}\", ssms_connection\n",
    "    )\n",
    "    df_source.to_parquet(f'./files/{table_name}.parquet')"
   ]
  }
 ],
 "metadata": {
  "kernelspec": {
   "display_name": "venv",
   "language": "python",
   "name": "python3"
  },
  "language_info": {
   "codemirror_mode": {
    "name": "ipython",
    "version": 3
   },
   "file_extension": ".py",
   "mimetype": "text/x-python",
   "name": "python",
   "nbconvert_exporter": "python",
   "pygments_lexer": "ipython3",
   "version": "3.10.0"
  }
 },
 "nbformat": 4,
 "nbformat_minor": 2
}
