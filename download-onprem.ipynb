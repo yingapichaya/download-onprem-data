{
 "cells": [
  {
   "cell_type": "markdown",
   "metadata": {},
   "source": [
    "#### Install Dependencies"
   ]
  },
  {
   "cell_type": "code",
   "execution_count": 7,
   "metadata": {},
   "outputs": [],
   "source": [
    "import pypyodbc\n",
    "import pandas as pd\n",
    "import os"
   ]
  },
  {
   "cell_type": "markdown",
   "metadata": {},
   "source": [
    "#### Create SSMS Connection"
   ]
  },
  {
   "cell_type": "code",
   "execution_count": 8,
   "metadata": {},
   "outputs": [],
   "source": [
    "#server and database name\n",
    "SERVER = \"EDUGLD33\"\n",
    "DATABASE = \"IMS\"\n",
    "\n",
    "ssms_connection_string = (\n",
    "    f\"DRIVER={{SQL Server}};SERVER={SERVER};DATABASE={DATABASE};Trusted_Connection=yes\"\n",
    ")\n",
    "\n",
    "ssms_connection = pypyodbc.connect(ssms_connection_string)"
   ]
  },
  {
   "cell_type": "markdown",
   "metadata": {},
   "source": [
    "#### Define Tables in table_names"
   ]
  },
  {
   "cell_type": "code",
   "execution_count": 9,
   "metadata": {},
   "outputs": [],
   "source": [
    "table_names = {\n",
    "    \"APPOINTMENTHISTORY\": {\"source_index\": [], 'target_table': None},\n",
    "    \"dtproperties\": {\"source_index\": [], 'target_table': None},\n",
    "    \"ORGUNITMANAGER\": {\"source_index\": [], 'target_table': None},\n",
    "    \"SalesforceCategories\": {\"source_index\": [], 'target_table': None},\n",
    "    \"SalesforceSiteActionsTaken\": {\"source_index\": [], 'target_table': None},\n",
    "    \"SB_EXTRACT_ACTIONLOG\": {\"source_index\": [], 'target_table': None},\n",
    "    \"SB_EXTRACT_CATEGORY\": {\"source_index\": [], 'target_table': None},\n",
    "    \"SB_EXTRACT_CRIME\": {\"source_index\": [], 'target_table': None},\n",
    "    \"SB_EXTRACT_CRIME_TYPE\": {\"source_index\": [], 'target_table': None},\n",
    "    \"SB_EXTRACT_HSSRESPONSE\": {\"source_index\": [], 'target_table': None},\n",
    "    \"SB_EXTRACT_INJURY\": {\"source_index\": [], 'target_table': None},\n",
    "    \"SB_EXTRACT_INVENTORY\": {\"source_index\": [], 'target_table': None},\n",
    "    \"SB_EXTRACT_NOTIFIABLE\": {\"source_index\": [], 'target_table': None},\n",
    "    \"SB_EXTRACT_PARTICIPANT\": {\"source_index\": [], 'target_table': None},\n",
    "    \"SB_EXTRACT_PARTICIPANT_TYPE\": {\"source_index\": [], 'target_table': None},\n",
    "    \"SB_EXTRACT_REPAIR\": {\"source_index\": [], 'target_table': None},\n",
    "    \"SB_EXTRACT_SAFETYMEASURE\": {\"source_index\": [], 'target_table': None},\n",
    "    \"SB_EXTRACT_SITEACTIONTAKEN\": {\"source_index\": [], 'target_table': None},\n",
    "    \"SB_EXTRACT_SUBCATEGORY\": {\"source_index\": [], 'target_table': None},\n",
    "    \"sysdiagrams\": {\"source_index\": [], 'target_table': None},\n",
    "    \"tbl_IMS_AlertType\": {\"source_index\": [], 'target_table': None},\n",
    "    \"tbl_IMS_Archive_SchoolCare\": {\"source_index\": [], 'target_table': None},\n",
    "    \"tbl_IMS_Attachment\": {\"source_index\": [], 'target_table': None},\n",
    "    \"tbl_IMS_AttachmentPermission\": {\"source_index\": [], 'target_table': None},\n",
    "    \"tbl_IMS_Calendar\": {\"source_index\": [], 'target_table': None},\n",
    "    \"tbl_IMS_CalendarDays\": {\"source_index\": [], 'target_table': None},\n",
    "    \"tbl_IMS_Child\": {\"source_index\": [], 'target_table': None},\n",
    "    \"tbl_IMS_ChildSite\": {\"source_index\": [], 'target_table': None},\n",
    "    \"tbl_IMS_Codes_ActionType\": {\"source_index\": [], 'target_table': None},\n",
    "    \"tbl_IMS_Codes_Activity\": {\"source_index\": [], 'target_table': None},\n",
    "    \"tbl_IMS_Codes_ActivityType\": {\"source_index\": [], 'target_table': None},\n",
    "    \"tbl_IMS_Codes_AffectedPersonType\": {\"source_index\": [], 'target_table': None},\n",
    "    \"tbl_IMS_Codes_Age\": {\"source_index\": [], 'target_table': None},\n",
    "    \"tbl_IMS_Codes_Agency\": {\"source_index\": [], 'target_table': None},\n",
    "    \"tbl_IMS_Codes_Area\": {\"source_index\": [], 'target_table': None},\n",
    "    \"tbl_IMS_Codes_AssetClass\": {\"source_index\": [], 'target_table': None},\n",
    "    \"tbl_IMS_Codes_AttachmentType\": {\"source_index\": [], 'target_table': None},\n",
    "    \"tbl_IMS_Codes_BodyPart\": {\"source_index\": [], 'target_table': None},\n",
    "    \"tbl_IMS_Codes_Category\": {\"source_index\": [], 'target_table': None},\n",
    "    \"tbl_IMS_Codes_Consequence\": {\"source_index\": [], 'target_table': None},\n",
    "    \"tbl_IMS_Codes_CrimeType\": {\"source_index\": [], 'target_table': None},\n",
    "    \"tbl_IMS_Codes_DTEIRegion\": {\"source_index\": [], 'target_table': None},\n",
    "    \"tbl_IMS_Codes_EmploymentStatus\": {\"source_index\": [], 'target_table': None},\n",
    "    \"tbl_IMS_Codes_EmploymentType\": {\"source_index\": [], 'target_table': None},\n",
    "    \"tbl_IMS_Codes_EntryMode\": {\"source_index\": [], 'target_table': None},\n",
    "    \"tbl_IMS_Codes_EntryPoint\": {\"source_index\": [], 'target_table': None},\n",
    "    \"tbl_IMS_Codes_GuardAuthorisor\": {\"source_index\": [], 'target_table': None},\n",
    "    \"tbl_IMS_Codes_GuardBilling\": {\"source_index\": [], 'target_table': None},\n",
    "    \"tbl_IMS_Codes_GuardDuty\": {\"source_index\": [], 'target_table': None},\n",
    "    \"tbl_IMS_Codes_GuardType\": {\"source_index\": [], 'target_table': None},\n",
    "    \"tbl_IMS_Codes_HazardStatus\": {\"source_index\": [], 'target_table': None},\n",
    "    \"tbl_IMS_Codes_HazardSubType\": {\"source_index\": [], 'target_table': None},\n",
    "    \"tbl_IMS_Codes_HazardType\": {\"source_index\": [], 'target_table': None},\n",
    "    \"tbl_IMS_Codes_HSSStatus\": {\"source_index\": [], 'target_table': None},\n",
    "    \"tbl_IMS_Codes_IncidentLevel\": {\"source_index\": [], 'target_table': None},\n",
    "    \"tbl_IMS_Codes_ItemStatus\": {\"source_index\": [], 'target_table': None},\n",
    "    \"tbl_IMS_Codes_ItemType\": {\"source_index\": [], 'target_table': None},\n",
    "    \"tbl_IMS_Codes_Likelihood\": {\"source_index\": [], 'target_table': None},\n",
    "    \"tbl_IMS_Codes_Mechanism\": {\"source_index\": [], 'target_table': None},\n",
    "    \"tbl_IMS_Codes_MediaStatementType\": {\"source_index\": [], 'target_table': None},\n",
    "    \"tbl_IMS_Codes_Nature\": {\"source_index\": [], 'target_table': None},\n",
    "    \"tbl_IMS_Codes_OfficerRole\": {\"source_index\": [], 'target_table': None},\n",
    "    \"tbl_IMS_Codes_OperatingHoursType\": {\"source_index\": [], 'target_table': None},\n",
    "    \"tbl_IMS_Codes_ParticipantRole\": {\"source_index\": [], 'target_table': None},\n",
    "    \"tbl_IMS_Codes_ParticipantType\": {\"source_index\": [], 'target_table': None},\n",
    "    \"tbl_IMS_Codes_Place\": {\"source_index\": [], 'target_table': None},\n",
    "    \"tbl_IMS_Codes_RAN_Criteria\": {\"source_index\": [], 'target_table': None},\n",
    "    \"tbl_IMS_Codes_RAN_CriteriaGroup\": {\"source_index\": [], 'target_table': None},\n",
    "    \"tbl_IMS_Codes_RepairPriority\": {\"source_index\": [], 'target_table': None},\n",
    "    \"tbl_IMS_Codes_RiskControl\": {\"source_index\": [], 'target_table': None},\n",
    "    \"tbl_IMS_Codes_RiskFactor\": {\"source_index\": [], 'target_table': None},\n",
    "    \"tbl_IMS_Codes_RiskRating\": {\"source_index\": [], 'target_table': None},\n",
    "    \"tbl_IMS_Codes_Role\": {\"source_index\": [], 'target_table': None},\n",
    "    \"tbl_IMS_Codes_SafetyMeasures\": {\"source_index\": [], 'target_table': None},\n",
    "    \"tbl_IMS_Codes_SensitivityRating\": {\"source_index\": [], 'target_table': None},\n",
    "    \"tbl_IMS_Codes_SexOffenceType\": {\"source_index\": [], 'target_table': None},\n",
    "    \"tbl_IMS_Codes_SiteActionTaken\": {\"source_index\": [], 'target_table': None},\n",
    "    \"tbl_IMS_Codes_StolenFrom\": {\"source_index\": [], 'target_table': None},\n",
    "    \"tbl_IMS_Codes_SubCategory\": {\"source_index\": [], 'target_table': None},\n",
    "    \"tbl_IMS_Codes_SubSiteActionTaken\": {\"source_index\": [], 'target_table': None},\n",
    "    \"tbl_IMS_Codes_Trade\": {\"source_index\": [], 'target_table': None},\n",
    "    \"tbl_IMS_Codes_Treatment\": {\"source_index\": [], 'target_table': None},\n",
    "    \"tbl_IMS_Codes_WorkPressureType\": {\"source_index\": [], 'target_table': None},\n",
    "    \"tbl_IMS_ContactAction\": {\"source_index\": [], 'target_table': None},\n",
    "    \"tbl_IMS_Crime\": {\"source_index\": [], 'target_table': None},\n",
    "    \"tbl_IMS_CrimeCrimeType\": {\"source_index\": [], 'target_table': None},\n",
    "    \"tbl_IMS_CrimeSexOffenceType\": {\"source_index\": [], 'target_table': None},\n",
    "    \"tbl_IMS_CriticalIncident\": {\"source_index\": [], 'target_table': None},\n",
    "    \"tbl_IMS_CriticalIncidentCategory\": {\"source_index\": [], 'target_table': None},\n",
    "    \"tbl_IMS_CriticalIncidentParticipant\": {\"source_index\": [], 'target_table': None},\n",
    "    \"tbl_IMS_CriticalIncidentRiskFactor\": {\"source_index\": [], 'target_table': None},\n",
    "    \"tbl_IMS_CriticalIncidentSiteActionTaken\": {\"source_index\": [], 'target_table': None},\n",
    "    \"tbl_IMS_CriticalIncidentSubCategory\": {\"source_index\": [], 'target_table': None},\n",
    "    \"tbl_IMS_CriticalIncidentSubSiteActionTaken\": {\"source_index\": [], 'target_table': None},\n",
    "    \"tbl_IMS_CriticalKeyContactAreaMapping\": {\"source_index\": [], 'target_table': None},\n",
    "    \"tbl_IMS_Director\": {\"source_index\": [], 'target_table': None},\n",
    "    \"tbl_IMS_DTEIRegionMap\": {\"source_index\": [], 'target_table': None},\n",
    "    \"tbl_IMS_ED155Incidents\": {\"source_index\": [], 'target_table': None},\n",
    "    \"tbl_IMS_EmailHistory\": {\"source_index\": [], 'target_table': None},\n",
    "    \"tbl_IMS_EventType\": {\"source_index\": [], 'target_table': None},\n",
    "    \"tbl_IMS_Extract\": {\"source_index\": [], 'target_table': None},\n",
    "    \"tbl_IMS_ExtractObject\": {\"source_index\": [], 'target_table': None},\n",
    "    \"tbl_IMS_FollowUp\": {\"source_index\": [], 'target_table': None},\n",
    "    \"tbl_IMS_Gender\": {\"source_index\": [], 'target_table': None},\n",
    "    \"tbl_IMS_GLCategory\": {\"source_index\": [], 'target_table': None},\n",
    "    \"tbl_IMS_GLExpenditureCategorisation\": {\"source_index\": [], 'target_table': None},\n",
    "    \"tbl_IMS_GLExpenditureSummary\": {\"source_index\": [], 'target_table': None},\n",
    "    \"tbl_IMS_GLFundGroup\": {\"source_index\": [], 'target_table': None},\n",
    "    \"tbl_IMS_GLFundsApproved\": {\"source_index\": [], 'target_table': None},\n",
    "    \"tbl_IMS_Global\": {\"source_index\": [], 'target_table': None},\n",
    "    \"tbl_IMS_GLObject\": {\"source_index\": [], 'target_table': None},\n",
    "    \"tbl_IMS_GLTrans\": {\"source_index\": [], 'target_table': None},\n",
    "    \"tbl_IMS_Hazard\": {\"source_index\": [], 'target_table': None},\n",
    "    \"tbl_IMS_HazardHazardSubType\": {\"source_index\": [], 'target_table': None},\n",
    "    \"tbl_IMS_HazardHazardType\": {\"source_index\": [], 'target_table': None},\n",
    "    \"tbl_IMS_HazardRiskControl\": {\"source_index\": [], 'target_table': None},\n",
    "    \"tbl_IMS_HazardSiteManager\": {\"source_index\": [], 'target_table': None},\n",
    "    \"tbl_IMS_HIRSExtractLog\": {\"source_index\": [], 'target_table': None},\n",
    "    \"tbl_IMS_HistoryHIRSExtract\": {\"source_index\": [], 'target_table': None},\n",
    "    \"tbl_IMS_HSSResponse\": {\"source_index\": [], 'target_table': None},\n",
    "    \"tbl_IMS_Import_SAMISBuilding\": {\"source_index\": [], 'target_table': None},\n",
    "    \"tbl_IMS_Import_SAMISLevel\": {\"source_index\": [], 'target_table': None},\n",
    "    \"tbl_IMS_Import_SAMISRoom\": {\"source_index\": [], 'target_table': None},\n",
    "    \"tbl_IMS_Import_SAMISSite\": {\"source_index\": [], 'target_table': None},\n",
    "    \"tbl_IMS_ImportFTE\": {\"source_index\": [], 'target_table': None},\n",
    "    \"tbl_IMS_ImportFTEHistory\": {\"source_index\": [], 'target_table': None},\n",
    "    \"tbl_IMS_Incident\": {\"source_index\": [], 'target_table': None},\n",
    "    \"tbl_IMS_IncidentAttachment\": {\"source_index\": [], 'target_table': None},\n",
    "    \"tbl_IMS_IncidentPerson\": {\"source_index\": [], 'target_table': None},\n",
    "    \"tbl_IMS_IncidentPersonWorkPressureType\": {\"source_index\": [], 'target_table': None},\n",
    "    \"tbl_IMS_IncidentRegion\": {\"source_index\": [], 'target_table': None},\n",
    "    \"tbl_IMS_Inventory\": {\"source_index\": [], 'target_table': None},\n",
    "    \"tbl_IMS_InventoryInvoices\": {\"source_index\": [], 'target_table': None},\n",
    "    \"tbl_IMS_ItemCategory\": {\"source_index\": [], 'target_table': None},\n",
    "    \"tbl_IMS_MediaAdvice\": {\"source_index\": [], 'target_table': None},\n",
    "    \"tbl_IMS_MediaAdviceMediaStatementType\": {\"source_index\": [], 'target_table': None},\n",
    "    \"tbl_IMS_MediaStatement\": {\"source_index\": [], 'target_table': None},\n",
    "    \"tbl_IMS_MessageTemplate\": {\"source_index\": [], 'target_table': None},\n",
    "    \"tbl_IMS_Mig_SalesForceConfig\": {\"source_index\": [], 'target_table': None},\n",
    "    \"tbl_IMS_Mig_SF_users\": {\"source_index\": [], 'target_table': None},\n",
    "    \"tbl_IMS_PaymentFile\": {\"source_index\": [], 'target_table': None},\n",
    "    \"tbl_IMS_PaymentFileItems\": {\"source_index\": [], 'target_table': None},\n",
    "    \"tbl_IMS_Person\": {\"source_index\": [], 'target_table': None},\n",
    "    \"tbl_IMS_PersonalClaim\": {\"source_index\": [], 'target_table': None},\n",
    "    \"tbl_IMS_RAN_CriteriaGroup\": {\"source_index\": [], 'target_table': None},\n",
    "    \"tbl_IMS_RAN_Main\": {\"source_index\": [], 'target_table': None},\n",
    "    \"tbl_IMS_RAN_NL01\": {\"source_index\": [], 'target_table': None},\n",
    "    \"tbl_IMS_RAN_SI01\": {\"source_index\": [], 'target_table': None},\n",
    "    \"tbl_IMS_RecordType\": {\"source_index\": [], 'target_table': None},\n",
    "    \"tbl_IMS_Repair\": {\"source_index\": [], 'target_table': None},\n",
    "    \"tbl_IMS_Report\": {\"source_index\": [], 'target_table': None},\n",
    "    \"tbl_IMS_ReportCategory\": {\"source_index\": [], 'target_table': None},\n",
    "    \"tbl_IMS_ReportCategory_Report\": {\"source_index\": [], 'target_table': None},\n",
    "    \"tbl_IMS_Response\": {\"source_index\": [], 'target_table': None},\n",
    "    \"tbl_IMS_RiskMatrix\": {\"source_index\": [], 'target_table': None},\n",
    "    \"tbl_IMS_Role\": {\"source_index\": [], 'target_table': None},\n",
    "    \"tbl_IMS_Role_ReportCategory\": {\"source_index\": [], 'target_table': None},\n",
    "    \"tbl_IMS_Role_ReportCategory_Report\": {\"source_index\": [], 'target_table': None},\n",
    "    \"tbl_IMS_Rule\": {\"source_index\": [], 'target_table': None},\n",
    "    \"tbl_IMS_RuleSet\": {\"source_index\": [], 'target_table': None},\n",
    "    \"tbl_IMS_RuleType\": {\"source_index\": [], 'target_table': None},\n",
    "    \"tbl_IMS_SAMISBuilding\": {\"source_index\": [], 'target_table': None},\n",
    "    \"tbl_IMS_SAMISLevel\": {\"source_index\": [], 'target_table': None},\n",
    "    \"tbl_IMS_SAMISRoom\": {\"source_index\": [], 'target_table': None},\n",
    "    \"tbl_IMS_SAMISSite\": {\"source_index\": [], 'target_table': None},\n",
    "    \"tbl_IMS_SecurityRequest\": {\"source_index\": [], 'target_table': None},\n",
    "    \"tbl_IMS_SecurityRequestItem\": {\"source_index\": [], 'target_table': None},\n",
    "    \"tbl_IMS_SiteException\": {\"source_index\": [], 'target_table': None},\n",
    "    \"tbl_IMS_SiteFilter\": {\"source_index\": [], 'target_table': None},\n",
    "    \"tbl_IMS_SiteManager\": {\"source_index\": [], 'target_table': None},\n",
    "    \"tbl_IMS_SiteManagerSafetyMeasures\": {\"source_index\": [], 'target_table': None},\n",
    "    \"tbl_IMS_StateEmergency\": {\"source_index\": [], 'target_table': None},\n",
    "    \"tbl_IMS_StateEmergencyIncident\": {\"source_index\": [], 'target_table': None},\n",
    "    \"tbl_IMS_TableMapping\": {\"source_index\": [], 'target_table': None},\n",
    "    \"tbl_IMS_TraceLog\": {\"source_index\": [], 'target_table': None},\n",
    "    \"tbl_IMS_TraceLogUsers\": {\"source_index\": [], 'target_table': None},\n",
    "    \"tbl_IMS_Witness\": {\"source_index\": [], 'target_table': None},\n",
    "    \"tbl_IMS_Workflow\": {\"source_index\": [], 'target_table': None},\n",
    "    \"temp_Trace\": {\"source_index\": [], 'target_table': None},\n",
    "    \"temp_Trace1\": {\"source_index\": [], 'target_table': None},\n",
    "    \"vw_IMS_LSS_OrgUnit_New\": {\"source_index\": [], 'target_table': None},\n",
    "    \"vw_IMS_LSS_OrgUnit_Original\": {\"source_index\": [], 'target_table': None},\n",
    "    \"XBSLOG_IMS_ATTACHMENT\": {\"source_index\": [], 'target_table': None},\n",
    "    \"tbl_IMS_Email\": {\"source_index\": [], 'target_table': None},\n",
    "    \"tbl_IMS_ActionTaken\": {\"source_index\": [], 'target_table': None},\n",
    "    \"tbl_IMS_CriticalIncidentRelease\": {\"source_index\": [], 'target_table': None},\n",
    "    \"tbl_IMS_Alert\": {\"source_index\": [], 'target_table': None},\n",
    "    \"tbl_IMS_EmailRecipient\": {\"source_index\": [], 'target_table': None},\n",
    "    \"tbl_IMS_StatusHistory\": {\"source_index\": [], 'target_table': None},\n",
    "    \"tbl_IMS_AuditHistory\": {\"source_index\": [], 'target_table': None},\n",
    "    \"tbl_IMS_DAIS\": {\"source_index\": [], 'target_table': None},\n",
    "}"
   ]
  },
  {
   "cell_type": "markdown",
   "metadata": {},
   "source": [
    "#### Get Index for Tables in table_names"
   ]
  },
  {
   "cell_type": "code",
   "execution_count": 10,
   "metadata": {},
   "outputs": [
    {
     "name": "stderr",
     "output_type": "stream",
     "text": [
      "C:\\Users\\SincharernwattanaA\\AppData\\Local\\Temp\\ipykernel_10180\\1495243311.py:15: UserWarning: pandas only supports SQLAlchemy connectable (engine/connection) or database string URI or sqlite3 DBAPI2 connection. Other DBAPI2 objects are not tested. Please consider using SQLAlchemy.\n",
      "  df_index = pd.read_sql_query(index_query, ssms_connection)\n"
     ]
    }
   ],
   "source": [
    "index_query = \"\"\"\n",
    "SELECT  t.name AS table_name,\n",
    "        c.name AS index_column\n",
    "FROM    ims.sys.tables t\n",
    "LEFT    JOIN ims.sys.indexes i ON t.object_id = i.object_id\n",
    "LEFT    JOIN ims.sys.index_columns ic ON t.object_id = ic.object_id\n",
    "        AND i.index_id = ic.index_id\n",
    "LEFT    JOIN ims.sys.columns c ON t.object_id = c.object_id\n",
    "        AND ic.column_id = c.column_id\n",
    "WHERE   i.is_unique = 1\n",
    "        AND i.name IS NOT NULL\n",
    "        AND i.type = 1\n",
    "\"\"\"\n",
    "\n",
    "df_index = pd.read_sql_query(index_query, ssms_connection)\n",
    "for _, row in df_index.iterrows():\n",
    "    table_names[row.table_name][\"source_index\"].append(row.index_column.lower())\n",
    "\n",
    "table_names = dict(\n",
    "    sorted(table_names.items(), key=lambda item: len(item[1]['source_index']) == 0, reverse=True)\n",
    ")"
   ]
  },
  {
   "cell_type": "markdown",
   "metadata": {},
   "source": [
    "#### Append index to tables in table_names"
   ]
  },
  {
   "cell_type": "code",
   "execution_count": 11,
   "metadata": {},
   "outputs": [
    {
     "data": {
      "text/plain": [
       "33"
      ]
     },
     "execution_count": 11,
     "metadata": {},
     "output_type": "execute_result"
    }
   ],
   "source": [
    "table_names = dict(\n",
    "    sorted(table_names.items(), key=lambda item: len(item[1]['source_index']) == 0, reverse=True)\n",
    ")\n",
    "\n",
    "empty_source_index_count = sum(1 for table in table_names.values() if not table['source_index'])\n",
    "empty_source_index_count"
   ]
  },
  {
   "cell_type": "markdown",
   "metadata": {},
   "source": [
    "#### Save On-Prem data to parquet files"
   ]
  },
  {
   "cell_type": "code",
   "execution_count": 12,
   "metadata": {},
   "outputs": [
    {
     "name": "stderr",
     "output_type": "stream",
     "text": [
      "C:\\Users\\SincharernwattanaA\\AppData\\Local\\Temp\\ipykernel_10180\\3505670092.py:8: UserWarning: pandas only supports SQLAlchemy connectable (engine/connection) or database string URI or sqlite3 DBAPI2 connection. Other DBAPI2 objects are not tested. Please consider using SQLAlchemy.\n",
      "  count_result = pd.read_sql_query(f\"select count (*) from IMS.dbo.{table_name}\", ssms_connection)\n",
      "C:\\Users\\SincharernwattanaA\\AppData\\Local\\Temp\\ipykernel_10180\\3505670092.py:16: UserWarning: pandas only supports SQLAlchemy connectable (engine/connection) or database string URI or sqlite3 DBAPI2 connection. Other DBAPI2 objects are not tested. Please consider using SQLAlchemy.\n",
      "  df_source = pd.read_sql_query(\n"
     ]
    },
    {
     "ename": "KeyboardInterrupt",
     "evalue": "",
     "output_type": "error",
     "traceback": [
      "\u001b[1;31m---------------------------------------------------------------------------\u001b[0m",
      "\u001b[1;31mKeyboardInterrupt\u001b[0m                         Traceback (most recent call last)",
      "Cell \u001b[1;32mIn[12], line 16\u001b[0m\n\u001b[0;32m     12\u001b[0m     df_source \u001b[38;5;241m=\u001b[39m pd\u001b[38;5;241m.\u001b[39mread_sql_query(\n\u001b[0;32m     13\u001b[0m         \u001b[38;5;124mf\u001b[39m\u001b[38;5;124m\"\u001b[39m\u001b[38;5;124mselect top(200) * from IMS.dbo.\u001b[39m\u001b[38;5;132;01m{\u001b[39;00mtable_name\u001b[38;5;132;01m}\u001b[39;00m\u001b[38;5;124m order by \u001b[39m\u001b[38;5;132;01m{\u001b[39;00m\u001b[38;5;124m'\u001b[39m\u001b[38;5;124m,\u001b[39m\u001b[38;5;124m'\u001b[39m\u001b[38;5;241m.\u001b[39mjoin(index)\u001b[38;5;132;01m}\u001b[39;00m\u001b[38;5;124m \u001b[39m\u001b[38;5;124m\"\u001b[39m, ssms_connection\n\u001b[0;32m     14\u001b[0m )\n\u001b[0;32m     15\u001b[0m \u001b[38;5;28;01melse\u001b[39;00m:\n\u001b[1;32m---> 16\u001b[0m     df_source \u001b[38;5;241m=\u001b[39m \u001b[43mpd\u001b[49m\u001b[38;5;241;43m.\u001b[39;49m\u001b[43mread_sql_query\u001b[49m\u001b[43m(\u001b[49m\n\u001b[0;32m     17\u001b[0m \u001b[43m        \u001b[49m\u001b[38;5;124;43mf\u001b[39;49m\u001b[38;5;124;43m\"\u001b[39;49m\u001b[38;5;124;43mselect * from IMS.dbo.\u001b[39;49m\u001b[38;5;132;43;01m{\u001b[39;49;00m\u001b[43mtable_name\u001b[49m\u001b[38;5;132;43;01m}\u001b[39;49;00m\u001b[38;5;124;43m\"\u001b[39;49m\u001b[43m,\u001b[49m\u001b[43m \u001b[49m\u001b[43mssms_connection\u001b[49m\n\u001b[0;32m     18\u001b[0m \u001b[43m\u001b[49m\u001b[43m)\u001b[49m\n\u001b[0;32m     19\u001b[0m df_source\u001b[38;5;241m.\u001b[39mto_parquet(\u001b[38;5;124mf\u001b[39m\u001b[38;5;124m'\u001b[39m\u001b[38;5;124m./files/\u001b[39m\u001b[38;5;132;01m{\u001b[39;00mtable_name\u001b[38;5;132;01m}\u001b[39;00m\u001b[38;5;124m.parquet\u001b[39m\u001b[38;5;124m'\u001b[39m)\n",
      "File \u001b[1;32mc:\\Users\\SincharernwattanaA\\projects\\download-onprem-data\\venv\\lib\\site-packages\\pandas\\io\\sql.py:526\u001b[0m, in \u001b[0;36mread_sql_query\u001b[1;34m(sql, con, index_col, coerce_float, params, parse_dates, chunksize, dtype, dtype_backend)\u001b[0m\n\u001b[0;32m    523\u001b[0m \u001b[38;5;28;01massert\u001b[39;00m dtype_backend \u001b[38;5;129;01mis\u001b[39;00m \u001b[38;5;129;01mnot\u001b[39;00m lib\u001b[38;5;241m.\u001b[39mno_default\n\u001b[0;32m    525\u001b[0m \u001b[38;5;28;01mwith\u001b[39;00m pandasSQL_builder(con) \u001b[38;5;28;01mas\u001b[39;00m pandas_sql:\n\u001b[1;32m--> 526\u001b[0m     \u001b[38;5;28;01mreturn\u001b[39;00m \u001b[43mpandas_sql\u001b[49m\u001b[38;5;241;43m.\u001b[39;49m\u001b[43mread_query\u001b[49m\u001b[43m(\u001b[49m\n\u001b[0;32m    527\u001b[0m \u001b[43m        \u001b[49m\u001b[43msql\u001b[49m\u001b[43m,\u001b[49m\n\u001b[0;32m    528\u001b[0m \u001b[43m        \u001b[49m\u001b[43mindex_col\u001b[49m\u001b[38;5;241;43m=\u001b[39;49m\u001b[43mindex_col\u001b[49m\u001b[43m,\u001b[49m\n\u001b[0;32m    529\u001b[0m \u001b[43m        \u001b[49m\u001b[43mparams\u001b[49m\u001b[38;5;241;43m=\u001b[39;49m\u001b[43mparams\u001b[49m\u001b[43m,\u001b[49m\n\u001b[0;32m    530\u001b[0m \u001b[43m        \u001b[49m\u001b[43mcoerce_float\u001b[49m\u001b[38;5;241;43m=\u001b[39;49m\u001b[43mcoerce_float\u001b[49m\u001b[43m,\u001b[49m\n\u001b[0;32m    531\u001b[0m \u001b[43m        \u001b[49m\u001b[43mparse_dates\u001b[49m\u001b[38;5;241;43m=\u001b[39;49m\u001b[43mparse_dates\u001b[49m\u001b[43m,\u001b[49m\n\u001b[0;32m    532\u001b[0m \u001b[43m        \u001b[49m\u001b[43mchunksize\u001b[49m\u001b[38;5;241;43m=\u001b[39;49m\u001b[43mchunksize\u001b[49m\u001b[43m,\u001b[49m\n\u001b[0;32m    533\u001b[0m \u001b[43m        \u001b[49m\u001b[43mdtype\u001b[49m\u001b[38;5;241;43m=\u001b[39;49m\u001b[43mdtype\u001b[49m\u001b[43m,\u001b[49m\n\u001b[0;32m    534\u001b[0m \u001b[43m        \u001b[49m\u001b[43mdtype_backend\u001b[49m\u001b[38;5;241;43m=\u001b[39;49m\u001b[43mdtype_backend\u001b[49m\u001b[43m,\u001b[49m\n\u001b[0;32m    535\u001b[0m \u001b[43m    \u001b[49m\u001b[43m)\u001b[49m\n",
      "File \u001b[1;32mc:\\Users\\SincharernwattanaA\\projects\\download-onprem-data\\venv\\lib\\site-packages\\pandas\\io\\sql.py:2753\u001b[0m, in \u001b[0;36mSQLiteDatabase.read_query\u001b[1;34m(self, sql, index_col, coerce_float, parse_dates, params, chunksize, dtype, dtype_backend)\u001b[0m\n\u001b[0;32m   2742\u001b[0m     \u001b[38;5;28;01mreturn\u001b[39;00m \u001b[38;5;28mself\u001b[39m\u001b[38;5;241m.\u001b[39m_query_iterator(\n\u001b[0;32m   2743\u001b[0m         cursor,\n\u001b[0;32m   2744\u001b[0m         chunksize,\n\u001b[1;32m   (...)\u001b[0m\n\u001b[0;32m   2750\u001b[0m         dtype_backend\u001b[38;5;241m=\u001b[39mdtype_backend,\n\u001b[0;32m   2751\u001b[0m     )\n\u001b[0;32m   2752\u001b[0m \u001b[38;5;28;01melse\u001b[39;00m:\n\u001b[1;32m-> 2753\u001b[0m     data \u001b[38;5;241m=\u001b[39m \u001b[38;5;28;43mself\u001b[39;49m\u001b[38;5;241;43m.\u001b[39;49m\u001b[43m_fetchall_as_list\u001b[49m\u001b[43m(\u001b[49m\u001b[43mcursor\u001b[49m\u001b[43m)\u001b[49m\n\u001b[0;32m   2754\u001b[0m     cursor\u001b[38;5;241m.\u001b[39mclose()\n\u001b[0;32m   2756\u001b[0m     frame \u001b[38;5;241m=\u001b[39m _wrap_result(\n\u001b[0;32m   2757\u001b[0m         data,\n\u001b[0;32m   2758\u001b[0m         columns,\n\u001b[1;32m   (...)\u001b[0m\n\u001b[0;32m   2763\u001b[0m         dtype_backend\u001b[38;5;241m=\u001b[39mdtype_backend,\n\u001b[0;32m   2764\u001b[0m     )\n",
      "File \u001b[1;32mc:\\Users\\SincharernwattanaA\\projects\\download-onprem-data\\venv\\lib\\site-packages\\pandas\\io\\sql.py:2768\u001b[0m, in \u001b[0;36mSQLiteDatabase._fetchall_as_list\u001b[1;34m(self, cur)\u001b[0m\n\u001b[0;32m   2767\u001b[0m \u001b[38;5;28;01mdef\u001b[39;00m\u001b[38;5;250m \u001b[39m\u001b[38;5;21m_fetchall_as_list\u001b[39m(\u001b[38;5;28mself\u001b[39m, cur):\n\u001b[1;32m-> 2768\u001b[0m     result \u001b[38;5;241m=\u001b[39m \u001b[43mcur\u001b[49m\u001b[38;5;241;43m.\u001b[39;49m\u001b[43mfetchall\u001b[49m\u001b[43m(\u001b[49m\u001b[43m)\u001b[49m\n\u001b[0;32m   2769\u001b[0m     \u001b[38;5;28;01mif\u001b[39;00m \u001b[38;5;129;01mnot\u001b[39;00m \u001b[38;5;28misinstance\u001b[39m(result, \u001b[38;5;28mlist\u001b[39m):\n\u001b[0;32m   2770\u001b[0m         result \u001b[38;5;241m=\u001b[39m \u001b[38;5;28mlist\u001b[39m(result)\n",
      "File \u001b[1;32mc:\\Users\\SincharernwattanaA\\projects\\download-onprem-data\\venv\\lib\\site-packages\\pypyodbc.py:1840\u001b[0m, in \u001b[0;36mCursor.fetchall\u001b[1;34m(self)\u001b[0m\n\u001b[0;32m   1838\u001b[0m rows \u001b[38;5;241m=\u001b[39m []\n\u001b[0;32m   1839\u001b[0m \u001b[38;5;28;01mwhile\u001b[39;00m \u001b[38;5;28;01mTrue\u001b[39;00m:\n\u001b[1;32m-> 1840\u001b[0m     row \u001b[38;5;241m=\u001b[39m \u001b[38;5;28;43mself\u001b[39;49m\u001b[38;5;241;43m.\u001b[39;49m\u001b[43mfetchone\u001b[49m\u001b[43m(\u001b[49m\u001b[43m)\u001b[49m\n\u001b[0;32m   1841\u001b[0m     \u001b[38;5;28;01mif\u001b[39;00m row \u001b[38;5;129;01mis\u001b[39;00m \u001b[38;5;28;01mNone\u001b[39;00m:\n\u001b[0;32m   1842\u001b[0m         \u001b[38;5;28;01mbreak\u001b[39;00m\n",
      "File \u001b[1;32mc:\\Users\\SincharernwattanaA\\projects\\download-onprem-data\\venv\\lib\\site-packages\\pypyodbc.py:1867\u001b[0m, in \u001b[0;36mCursor.fetchone\u001b[1;34m(self)\u001b[0m\n\u001b[0;32m   1864\u001b[0m \u001b[38;5;28;01mif\u001b[39;00m \u001b[38;5;129;01mnot\u001b[39;00m \u001b[38;5;28mself\u001b[39m\u001b[38;5;241m.\u001b[39mconnection:\n\u001b[0;32m   1865\u001b[0m     \u001b[38;5;28mself\u001b[39m\u001b[38;5;241m.\u001b[39mclose()\n\u001b[1;32m-> 1867\u001b[0m ret \u001b[38;5;241m=\u001b[39m \u001b[43mSQLFetch\u001b[49m\u001b[43m(\u001b[49m\u001b[38;5;28;43mself\u001b[39;49m\u001b[38;5;241;43m.\u001b[39;49m\u001b[43mstmt_h\u001b[49m\u001b[43m)\u001b[49m\n\u001b[0;32m   1869\u001b[0m \u001b[38;5;28;01mif\u001b[39;00m ret \u001b[38;5;129;01min\u001b[39;00m (SQL_SUCCESS,SQL_SUCCESS_WITH_INFO):            \n\u001b[0;32m   1870\u001b[0m \u001b[38;5;250m    \u001b[39m\u001b[38;5;124;03m'''Bind buffers for the record set columns'''\u001b[39;00m\n",
      "\u001b[1;31mKeyboardInterrupt\u001b[0m: "
     ]
    }
   ],
   "source": [
    "folder_name = \"./files\"\n",
    "\n",
    "if not os.path.exists(folder_name):\n",
    "    os.makedirs(folder_name)\n",
    "\n",
    "for table_name, table_info in table_names.items():\n",
    "\n",
    "    count_result = pd.read_sql_query(f\"select count (*) from IMS.dbo.{table_name}\", ssms_connection)\n",
    "    record_count = count_result.iloc[0, 0]\n",
    "    index = table_info[\"source_index\"]\n",
    "    if record_count > 800000:\n",
    "        df_source = pd.read_sql_query(\n",
    "            f\"select top(200) * from IMS.dbo.{table_name} order by {','.join(index)} \", ssms_connection\n",
    "    )\n",
    "    else:\n",
    "        df_source = pd.read_sql_query(\n",
    "            f\"select * from IMS.dbo.{table_name}\", ssms_connection\n",
    "    )\n",
    "    df_source.to_parquet(f'./files/{table_name}.parquet')"
   ]
  }
 ],
 "metadata": {
  "kernelspec": {
   "display_name": "venv",
   "language": "python",
   "name": "python3"
  },
  "language_info": {
   "codemirror_mode": {
    "name": "ipython",
    "version": 3
   },
   "file_extension": ".py",
   "mimetype": "text/x-python",
   "name": "python",
   "nbconvert_exporter": "python",
   "pygments_lexer": "ipython3",
   "version": "3.10.0"
  }
 },
 "nbformat": 4,
 "nbformat_minor": 2
}
